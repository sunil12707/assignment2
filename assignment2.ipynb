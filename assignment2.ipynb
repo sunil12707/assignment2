{
  "nbformat": 4,
  "nbformat_minor": 0,
  "metadata": {
    "colab": {
      "provenance": []
    },
    "kernelspec": {
      "name": "python3",
      "display_name": "Python 3"
    },
    "language_info": {
      "name": "python"
    }
  },
  "cells": [
    {
      "cell_type": "code",
      "execution_count": null,
      "metadata": {
        "id": "4_nUCaAMYJzJ"
      },
      "outputs": [],
      "source": []
    },
    {
      "cell_type": "markdown",
      "source": [
        "**Q1. How do you comment code in Python? What are the different types of comments?**"
      ],
      "metadata": {
        "id": "L5EbfE3WYNe_"
      }
    },
    {
      "cell_type": "code",
      "source": [
        "This is a single-line comment\n",
        "\"\"\" This is a multi-line comment. It can span multiple lines. \"\"\""
      ],
      "metadata": {
        "id": "ysyR37e6YRo5"
      },
      "execution_count": null,
      "outputs": []
    },
    {
      "cell_type": "markdown",
      "source": [
        "**Q2. What are variables in Python? How do you declare and assign values to variables?**"
      ],
      "metadata": {
        "id": "n8Sl0S_yYfJU"
      }
    },
    {
      "cell_type": "code",
      "source": [
        "# Declaring and assigning values to variables\n",
        "x = 10\n",
        "name = \"John\"\n",
        "is_student = True\n",
        "\n",
        "'''\n",
        "Variables in Python are used to store data values. You can declare a variable and assign a value to it using the assignment operator (=).\n",
        "'''"
      ],
      "metadata": {
        "id": "9QMaN2-HYRrr"
      },
      "execution_count": null,
      "outputs": []
    },
    {
      "cell_type": "markdown",
      "source": [
        "**Q3. How do you convert one data type to another in Python?**"
      ],
      "metadata": {
        "id": "5l4qVV3RYxQs"
      }
    },
    {
      "cell_type": "code",
      "source": [
        "# Converting data types\n",
        "x = 10\n",
        "y = str(x)  # Convert integer to string\n",
        "\n",
        "name = \"John\"\n",
        "age = int(input(\"Enter your age: \"))  # Convert string to integer\n",
        "\n",
        "z = float(x)  # Convert integer to float\n",
        "# You can convert one data type to another using type conversion functions or constructors."
      ],
      "metadata": {
        "id": "4rRw9UREZEVq"
      },
      "execution_count": null,
      "outputs": []
    },
    {
      "cell_type": "markdown",
      "source": [
        "**Q4. How do you write and execute a Python script from the command line?t**"
      ],
      "metadata": {
        "id": "bb9AJ1eTZJmb"
      }
    },
    {
      "cell_type": "code",
      "source": [
        "'''\n",
        "To write a Python script, create a file with a .py extension and write your Python code in it. To execute the script from the command line, navigate to the directory containing the script and run python script_name.py\n",
        "'''\n",
        "\n",
        "# Command to execute a Python script from the command line\n",
        "python script_name.py\n"
      ],
      "metadata": {
        "id": "g1XfyNxgZEh9"
      },
      "execution_count": null,
      "outputs": []
    },
    {
      "cell_type": "markdown",
      "source": [
        "**Q5. Given a list my_list = [1, 2, 3, 4, 5], write the code to slice the list and obtain the sub-list [2, 3].**"
      ],
      "metadata": {
        "id": "wATwrkFpZYpx"
      }
    },
    {
      "cell_type": "code",
      "source": [
        "# Slicing the list to obtain the sub-list [2, 3]\n",
        "my_list = [1, 2, 3, 4, 5]\n",
        "sub_list = my_list[1:3]\n",
        "print(sub_list)  # Output: [2, 3]\n"
      ],
      "metadata": {
        "id": "GspaNLxcZbdt"
      },
      "execution_count": null,
      "outputs": []
    },
    {
      "cell_type": "markdown",
      "source": [
        "**Q6. What is a complex number in mathematics, and how is it represented in Python?**"
      ],
      "metadata": {
        "id": "15cCxWinZhFa"
      }
    },
    {
      "cell_type": "code",
      "source": [
        "'''\n",
        "A complex number is a number that comprises a real part and an imaginary part. In Python, complex numbers are represented using the complex() function or by directly writing a number followed by j to represent the imaginary part.\n",
        "'''\n",
        "# Representing complex numbers in Python\n",
        "x = complex(3, 4)  # 3 + 4j\n",
        "y = 2 + 5j\n"
      ],
      "metadata": {
        "id": "G_9-tJG7ZbgO"
      },
      "execution_count": null,
      "outputs": []
    },
    {
      "cell_type": "markdown",
      "source": [
        "**Q7. What is the correct way to declare a variable named age and assign the value 25 to it?**"
      ],
      "metadata": {
        "id": "Wx9hH6ucZtnh"
      }
    },
    {
      "cell_type": "code",
      "source": [
        "# Declaring a variable named age and assigning the value 25\n",
        "age = 25\n"
      ],
      "metadata": {
        "id": "UkkKGfzVZbir"
      },
      "execution_count": null,
      "outputs": []
    },
    {
      "cell_type": "markdown",
      "source": [
        "**Q8. Declare a variable named price and assign the value 9.99 to it. What data type does this variable belong to?**"
      ],
      "metadata": {
        "id": "Ke-mfBWuZ3x8"
      }
    },
    {
      "cell_type": "code",
      "source": [
        "# Declaring a variable named price and assigning the value 9.99\n",
        "price = 9.99  # This variable belongs to the float data type\n"
      ],
      "metadata": {
        "id": "55HAp3-mZbmD"
      },
      "execution_count": null,
      "outputs": []
    },
    {
      "cell_type": "markdown",
      "source": [
        "**Q9. Create a variable named name and assign your full name to it as a string. How would you print the value of this variable?t**"
      ],
      "metadata": {
        "id": "NmurPB9gZ9Yb"
      }
    },
    {
      "cell_type": "code",
      "source": [
        "# Creating a variable named name and assigning a string value\n",
        "name = \"John Doe\"\n",
        "print(name)  # Output: John Doe\n"
      ],
      "metadata": {
        "id": "aFFRyVHsaC48"
      },
      "execution_count": null,
      "outputs": []
    },
    {
      "cell_type": "markdown",
      "source": [
        "**Q10. Given the string \"Hello, World!\", extract the substring \"World\".**"
      ],
      "metadata": {
        "id": "k9SKosjzaJOR"
      }
    },
    {
      "cell_type": "code",
      "source": [
        "# Extracting the substring \"World\" from the given string\n",
        "string = \"Hello, World!\"\n",
        "substring = string[7:12]\n",
        "print(substring)  # Output: World\n"
      ],
      "metadata": {
        "id": "GiaV-cY-aC73"
      },
      "execution_count": null,
      "outputs": []
    },
    {
      "cell_type": "markdown",
      "source": [
        "**Q11. Create a variable named is_student and assign it a boolean value indicating whether you are currently a student or not.**"
      ],
      "metadata": {
        "id": "cLUUF3AoaRH2"
      }
    },
    {
      "cell_type": "code",
      "source": [
        "# Creating a variable named is_student and assigning a boolean value\n",
        "is_student = True  # Set to True if you are currently a student, False otherwise\n"
      ],
      "metadata": {
        "id": "jOBG2kRZaC_O"
      },
      "execution_count": null,
      "outputs": []
    }
  ]
}